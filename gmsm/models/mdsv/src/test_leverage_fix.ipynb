{
 "cells": [
  {
   "cell_type": "code",
   "id": "initial_id",
   "metadata": {
    "collapsed": true,
    "ExecuteTime": {
     "end_time": "2025-10-16T10:47:09.280063Z",
     "start_time": "2025-10-16T10:47:09.151015Z"
    }
   },
   "source": [
    "import numpy as np\n",
    "import mdsv_cpp\n",
    "\n",
    "# Test leverage computation\n",
    "returns = np.array([0.01, -0.02, 0.015, -0.03, 0.01])\n",
    "l1 = 0.8\n",
    "theta_l = 0.9\n",
    "\n",
    "L = mdsv_cpp.compute_leverage_multipliers(returns, l1, theta_l, NL=70)\n",
    "print(\"Leverage multipliers Lt:\")\n",
    "print(L)\n",
    "print()\n",
    "\n",
    "# L[0] should be 1.0\n",
    "# L[1] should be > 1.0 (because returns[0] is negative... wait, it's positive)\n",
    "# L[1] should be 1.0 (returns[0] > 0, so no leverage)\n",
    "# L[2] should be > 1.0 (returns[1] < 0, so leverage kicks in)\n",
    "\n",
    "print(\"Expected behavior:\")\n",
    "print(f\"  L[0] = {L[0]:.4f} (should be 1.0)\")\n",
    "print(f\"  L[1] = {L[1]:.4f} (should be 1.0, no negative return)\")\n",
    "print(f\"  L[2] = {L[2]:.4f} (should be > 1.0, returns[1] < 0)\")\n",
    "print(f\"  L[3] = {L[3]:.4f} (should be > 1.0, cumulative effect)\")"
   ],
   "outputs": [
    {
     "name": "stdout",
     "output_type": "stream",
     "text": [
      "Leverage multipliers Lt:\n",
      "[1.         1.         1.016      1.0144     1.03709787]\n",
      "\n",
      "Expected behavior:\n",
      "  L[0] = 1.0000 (should be 1.0)\n",
      "  L[1] = 1.0000 (should be 1.0, no negative return)\n",
      "  L[2] = 1.0160 (should be > 1.0, returns[1] < 0)\n",
      "  L[3] = 1.0144 (should be > 1.0, cumulative effect)\n"
     ]
    }
   ],
   "execution_count": 1
  },
  {
   "metadata": {},
   "cell_type": "code",
   "outputs": [],
   "execution_count": null,
   "source": "",
   "id": "3f39a8af68427c79"
  }
 ],
 "metadata": {
  "kernelspec": {
   "display_name": "Python 3",
   "language": "python",
   "name": "python3"
  },
  "language_info": {
   "codemirror_mode": {
    "name": "ipython",
    "version": 2
   },
   "file_extension": ".py",
   "mimetype": "text/x-python",
   "name": "python",
   "nbconvert_exporter": "python",
   "pygments_lexer": "ipython2",
   "version": "2.7.6"
  }
 },
 "nbformat": 4,
 "nbformat_minor": 5
}
